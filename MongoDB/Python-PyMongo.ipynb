{
 "cells": [
  {
   "cell_type": "code",
   "execution_count": 1,
   "id": "37e90b6d-761e-4755-9ebb-47e8f64755d3",
   "metadata": {},
   "outputs": [
    {
     "name": "stdout",
     "output_type": "stream",
     "text": [
      "Collecting pymongo\n",
      "  Downloading pymongo-4.8.0-cp312-cp312-win_amd64.whl.metadata (22 kB)\n",
      "Collecting dnspython<3.0.0,>=1.16.0 (from pymongo)\n",
      "  Downloading dnspython-2.6.1-py3-none-any.whl.metadata (5.8 kB)\n",
      "Downloading pymongo-4.8.0-cp312-cp312-win_amd64.whl (680 kB)\n",
      "   ---------------------------------------- 0.0/680.4 kB ? eta -:--:--\n",
      "   - -------------------------------------- 30.7/680.4 kB 1.3 MB/s eta 0:00:01\n",
      "   -------------------------- ------------- 450.6/680.4 kB 5.6 MB/s eta 0:00:01\n",
      "   ---------------------------------------  675.8/680.4 kB 7.1 MB/s eta 0:00:01\n",
      "   ---------------------------------------- 680.4/680.4 kB 5.4 MB/s eta 0:00:00\n",
      "Downloading dnspython-2.6.1-py3-none-any.whl (307 kB)\n",
      "   ---------------------------------------- 0.0/307.7 kB ? eta -:--:--\n",
      "   --------------------------------------  307.2/307.7 kB 18.6 MB/s eta 0:00:01\n",
      "   ---------------------------------------- 307.7/307.7 kB 6.3 MB/s eta 0:00:00\n",
      "Installing collected packages: dnspython, pymongo\n",
      "Successfully installed dnspython-2.6.1 pymongo-4.8.0\n"
     ]
    }
   ],
   "source": [
    "!pip install pymongo"
   ]
  },
  {
   "cell_type": "code",
   "execution_count": 3,
   "id": "b28567ff-5908-4433-bbf7-b82b87731efa",
   "metadata": {},
   "outputs": [],
   "source": [
    "import pymongo\n"
   ]
  },
  {
   "cell_type": "markdown",
   "id": "36be6cdf-e162-467f-9327-bc6667ea737c",
   "metadata": {},
   "source": [
    "### Step 1. Connect to MongoDB Database"
   ]
  },
  {
   "cell_type": "code",
   "execution_count": 4,
   "id": "9ccc4873-f8fc-44c2-a6ce-f0e3e1155ba3",
   "metadata": {},
   "outputs": [
    {
     "name": "stdout",
     "output_type": "stream",
     "text": [
      "MongoClient(host=['localhost:27017'], document_class=dict, tz_aware=False, connect=True)\n"
     ]
    }
   ],
   "source": [
    "client = pymongo.MongoClient(\"mongodb://localhost:27017/\")\n",
    "\n",
    "print(client)"
   ]
  },
  {
   "cell_type": "code",
   "execution_count": 8,
   "id": "9a65d6ea-bfd6-4311-adf2-1227be843381",
   "metadata": {},
   "outputs": [],
   "source": [
    "database = client['pymongo_db']\n",
    "collection = database['testcollection']"
   ]
  },
  {
   "cell_type": "code",
   "execution_count": 9,
   "id": "db373a4c-ef47-4ff2-854b-0358209124cc",
   "metadata": {},
   "outputs": [],
   "source": [
    "doc_1 = {\n",
    "    \"name\": \"Smartphone X20\",\n",
    "    \"price\": 749.99,\n",
    "    \"category\": \"Smartphones\",\n",
    "    \"brand\": \"TechWorld\",\n",
    "    \"colors\": [\n",
    "        \"Midnight Black\",\n",
    "        \"Starlight Silver\",\n",
    "        \"Sunset Gold\"\n",
    "    ],\n",
    "    \"storage_options\": [\n",
    "        \"128GB\",\n",
    "        \"256GB\",\n",
    "        \"512GB\"\n",
    "    ]\n",
    "}"
   ]
  },
  {
   "cell_type": "markdown",
   "id": "bb5d0d2e-0c52-4ac3-a7c1-eff8edca24fa",
   "metadata": {},
   "source": [
    "### Insert single document"
   ]
  },
  {
   "cell_type": "code",
   "execution_count": 10,
   "id": "ec98f1f5-c728-42bc-9d02-8395a8c4900d",
   "metadata": {},
   "outputs": [
    {
     "data": {
      "text/plain": [
       "InsertOneResult(ObjectId('66c43c4e19168f732e7552b2'), acknowledged=True)"
      ]
     },
     "execution_count": 10,
     "metadata": {},
     "output_type": "execute_result"
    }
   ],
   "source": [
    "collection.insert_one(doc_1)"
   ]
  },
  {
   "cell_type": "code",
   "execution_count": 11,
   "id": "4878aa68-1414-4b8b-96e5-2c650c227103",
   "metadata": {},
   "outputs": [],
   "source": [
    "products = [\n",
    "    {\n",
    "        \"name\": \"Ultra HD Smart TV\",\n",
    "        \"price\": 999.99,\n",
    "        \"colors\": [\n",
    "            \"Black\",\n",
    "            \"Silver\"\n",
    "        ],\n",
    "        \"storage_options\": [\n",
    "            \"32GB\",\n",
    "            \"64GB\"\n",
    "        ],\n",
    "        \"category\": \"Televisions\",\n",
    "        \"brand\": \"VisionTech\"\n",
    "    },\n",
    "    {\n",
    "        \"name\": \"Gaming Laptop R5\",\n",
    "        \"price\": 1299.99,\n",
    "        \"colors\": [\n",
    "            \"Cosmic Black\",\n",
    "            \"Nebula Blue\"\n",
    "        ],\n",
    "        \"storage_options\": [\n",
    "            \"512GB SSD\",\n",
    "            \"1TB SSD\"\n",
    "        ],\n",
    "        \"category\": \"Laptops\",\n",
    "        \"brand\": \"GameMaster\"\n",
    "    },\n",
    "    {\n",
    "        \"name\": \"Bluetooth Earbuds Z3\",\n",
    "        \"price\": 89.99,\n",
    "        \"colors\": [\n",
    "            \"White\",\n",
    "            \"Black\",\n",
    "            \"Blue\"\n",
    "        ],\n",
    "        \"storage_options\": [\n",
    "            \"N/A\"\n",
    "        ],\n",
    "        \"category\": \"Audio\",\n",
    "        \"brand\": \"SoundWave\"\n",
    "    },\n",
    "    {\n",
    "        \"name\": \"4K Action Camera\",\n",
    "        \"price\": 349.99,\n",
    "        \"colors\": [\n",
    "            \"Black\",\n",
    "            \"Yellow\"\n",
    "        ],\n",
    "        \"storage_options\": [\n",
    "            \"64GB\",\n",
    "            \"128GB\"\n",
    "        ],\n",
    "        \"category\": \"Cameras\",\n",
    "        \"brand\": \"CapturePro\"\n",
    "    },\n",
    "    {\n",
    "        \"name\": \"Electric Scooter X1\",\n",
    "        \"price\": 499.99,\n",
    "        \"colors\": [\n",
    "            \"Red\",\n",
    "            \"Black\"\n",
    "        ],\n",
    "        \"storage_options\": [\n",
    "            \"N/A\"\n",
    "        ],\n",
    "        \"category\": \"Transportation\",\n",
    "        \"brand\": \"EcoRide\"\n",
    "    }\n",
    "]"
   ]
  },
  {
   "cell_type": "markdown",
   "id": "714deacb-bcc2-4275-969b-d9499b923f22",
   "metadata": {},
   "source": [
    "### Insert multiple documents"
   ]
  },
  {
   "cell_type": "code",
   "execution_count": 13,
   "id": "7cc870ac-8606-4be8-8171-72fa291af31a",
   "metadata": {},
   "outputs": [
    {
     "data": {
      "text/plain": [
       "InsertManyResult([ObjectId('66c43d3d19168f732e7552b3'), ObjectId('66c43d3d19168f732e7552b4'), ObjectId('66c43d3d19168f732e7552b5'), ObjectId('66c43d3d19168f732e7552b6'), ObjectId('66c43d3d19168f732e7552b7')], acknowledged=True)"
      ]
     },
     "execution_count": 13,
     "metadata": {},
     "output_type": "execute_result"
    }
   ],
   "source": [
    "collection.insert_many(products)"
   ]
  },
  {
   "cell_type": "markdown",
   "id": "0d0c520f-d8ac-42e4-b7f1-fc409882e970",
   "metadata": {},
   "source": [
    "### Find One Document"
   ]
  },
  {
   "cell_type": "code",
   "execution_count": 14,
   "id": "a71af17c-acb0-4dc7-b548-9fd838baf920",
   "metadata": {},
   "outputs": [
    {
     "data": {
      "text/plain": [
       "{'_id': ObjectId('66c43c4e19168f732e7552b2'),\n",
       " 'name': 'Smartphone X20',\n",
       " 'price': 749.99,\n",
       " 'category': 'Smartphones',\n",
       " 'brand': 'TechWorld',\n",
       " 'colors': ['Midnight Black', 'Starlight Silver', 'Sunset Gold'],\n",
       " 'storage_options': ['128GB', '256GB', '512GB']}"
      ]
     },
     "execution_count": 14,
     "metadata": {},
     "output_type": "execute_result"
    }
   ],
   "source": [
    "collection.find_one()"
   ]
  },
  {
   "cell_type": "markdown",
   "id": "dc02b687-53aa-45b3-bcd7-2315a8a2893a",
   "metadata": {},
   "source": [
    "### Find Documents based on the filter criteria mentioned"
   ]
  },
  {
   "cell_type": "code",
   "execution_count": 18,
   "id": "5fb875b3-9302-4eed-9989-7d9e6c1b9b2e",
   "metadata": {},
   "outputs": [
    {
     "data": {
      "text/plain": [
       "{'_id': ObjectId('66c43c4e19168f732e7552b2'),\n",
       " 'name': 'Smartphone X20',\n",
       " 'price': 749.99,\n",
       " 'category': 'Smartphones',\n",
       " 'brand': 'TechWorld',\n",
       " 'colors': ['Midnight Black', 'Starlight Silver', 'Sunset Gold'],\n",
       " 'storage_options': ['128GB', '256GB', '512GB']}"
      ]
     },
     "execution_count": 18,
     "metadata": {},
     "output_type": "execute_result"
    }
   ],
   "source": [
    "collection.find_one({'category':'Smartphones'})"
   ]
  },
  {
   "cell_type": "markdown",
   "id": "3161097f-cac2-4c34-9c87-81c8552a11ad",
   "metadata": {},
   "source": [
    "### Display all documents"
   ]
  },
  {
   "cell_type": "code",
   "execution_count": 22,
   "id": "90f01f6c-4ac2-4c8f-9211-f3822c59c3d3",
   "metadata": {},
   "outputs": [],
   "source": [
    "alldocs = collection.find()"
   ]
  },
  {
   "cell_type": "code",
   "execution_count": 24,
   "id": "45c5966c-cbf1-456b-85ae-bb14076e00bc",
   "metadata": {},
   "outputs": [
    {
     "name": "stdout",
     "output_type": "stream",
     "text": [
      "{'_id': ObjectId('66c43c4e19168f732e7552b2'), 'name': 'Smartphone X20', 'price': 749.99, 'category': 'Smartphones', 'brand': 'TechWorld', 'colors': ['Midnight Black', 'Starlight Silver', 'Sunset Gold'], 'storage_options': ['128GB', '256GB', '512GB']}\n",
      "{'_id': ObjectId('66c43d3d19168f732e7552b3'), 'name': 'Ultra HD Smart TV', 'price': 999.99, 'colors': ['Black', 'Silver'], 'storage_options': ['32GB', '64GB'], 'category': 'Televisions', 'brand': 'VisionTech'}\n",
      "{'_id': ObjectId('66c43d3d19168f732e7552b4'), 'name': 'Gaming Laptop R5', 'price': 1299.99, 'colors': ['Cosmic Black', 'Nebula Blue'], 'storage_options': ['512GB SSD', '1TB SSD'], 'category': 'Laptops', 'brand': 'GameMaster'}\n",
      "{'_id': ObjectId('66c43d3d19168f732e7552b5'), 'name': 'Bluetooth Earbuds Z3', 'price': 89.99, 'colors': ['White', 'Black', 'Blue'], 'storage_options': ['N/A'], 'category': 'Audio', 'brand': 'SoundWave'}\n",
      "{'_id': ObjectId('66c43d3d19168f732e7552b6'), 'name': '4K Action Camera', 'price': 349.99, 'colors': ['Black', 'Yellow'], 'storage_options': ['64GB', '128GB'], 'category': 'Cameras', 'brand': 'CapturePro'}\n",
      "{'_id': ObjectId('66c43d3d19168f732e7552b7'), 'name': 'Electric Scooter X1', 'price': 499.99, 'colors': ['Red', 'Black'], 'storage_options': ['N/A'], 'category': 'Transportation', 'brand': 'EcoRide'}\n"
     ]
    }
   ],
   "source": [
    "for doc in alldocs:\n",
    "    print(doc)"
   ]
  },
  {
   "cell_type": "markdown",
   "id": "df80fe76-4166-41e4-a1c4-3a3390f8c2a2",
   "metadata": {},
   "source": [
    "### Drop Collection from database"
   ]
  },
  {
   "cell_type": "code",
   "execution_count": 36,
   "id": "34f0b51c-3bc5-4383-bd13-a67f91a30255",
   "metadata": {},
   "outputs": [
    {
     "data": {
      "text/plain": [
       "InsertManyResult([ObjectId('66c43d3d19168f732e7552b3'), ObjectId('66c43d3d19168f732e7552b4'), ObjectId('66c43d3d19168f732e7552b5'), ObjectId('66c43d3d19168f732e7552b6'), ObjectId('66c43d3d19168f732e7552b7')], acknowledged=True)"
      ]
     },
     "execution_count": 36,
     "metadata": {},
     "output_type": "execute_result"
    }
   ],
   "source": [
    "collection1 = database['test1']\n",
    "collection1.insert_many(products)"
   ]
  },
  {
   "cell_type": "code",
   "execution_count": 38,
   "id": "81515a26-f77e-4343-95d8-9aa39c294d79",
   "metadata": {},
   "outputs": [],
   "source": [
    "try:\n",
    "    database.test1.drop()\n",
    "except:\n",
    "    print(\"Collection doesnt exist!\")"
   ]
  },
  {
   "cell_type": "markdown",
   "id": "6ea2367b-2f1b-4b03-823b-a06cb2f5f50a",
   "metadata": {},
   "source": [
    "### List Databases and List Collections"
   ]
  },
  {
   "cell_type": "code",
   "execution_count": 39,
   "id": "9f255a5f-b3cc-4afe-aae1-fadaaf38db94",
   "metadata": {},
   "outputs": [
    {
     "data": {
      "text/plain": [
       "['admin', 'config', 'local', 'pymongo_db', 'restaurants', 'sales']"
      ]
     },
     "execution_count": 39,
     "metadata": {},
     "output_type": "execute_result"
    }
   ],
   "source": [
    "client.list_database_names()"
   ]
  },
  {
   "cell_type": "code",
   "execution_count": 40,
   "id": "80981b8c-85c2-46ce-abb1-a619353e8ffb",
   "metadata": {},
   "outputs": [
    {
     "data": {
      "text/plain": [
       "['testcollection']"
      ]
     },
     "execution_count": 40,
     "metadata": {},
     "output_type": "execute_result"
    }
   ],
   "source": [
    "database.list_collection_names()"
   ]
  },
  {
   "cell_type": "markdown",
   "id": "b5227af7-4f74-408f-9f30-7ff86537dc93",
   "metadata": {},
   "source": [
    "### distinct(): To retrieve distinct attributes"
   ]
  },
  {
   "cell_type": "code",
   "execution_count": 42,
   "id": "cc03f68e-c576-4b97-bc2d-c3a855a0109d",
   "metadata": {},
   "outputs": [
    {
     "data": {
      "text/plain": [
       "[89.99, 349.99, 499.99, 749.99, 999.99, 1299.99]"
      ]
     },
     "execution_count": 42,
     "metadata": {},
     "output_type": "execute_result"
    }
   ],
   "source": [
    "collection.distinct(\"price\")"
   ]
  },
  {
   "cell_type": "code",
   "execution_count": 43,
   "id": "75685e1a-2e8b-4e53-b734-0b09ebd743d1",
   "metadata": {},
   "outputs": [
    {
     "ename": "TypeError",
     "evalue": "'Collection' object is not callable. If you meant to call the 'fin' method on a 'Collection' object it is failing because no such method exists.",
     "output_type": "error",
     "traceback": [
      "\u001b[1;31m---------------------------------------------------------------------------\u001b[0m",
      "\u001b[1;31mTypeError\u001b[0m                                 Traceback (most recent call last)",
      "Cell \u001b[1;32mIn[43], line 1\u001b[0m\n\u001b[1;32m----> 1\u001b[0m collection\u001b[38;5;241m.\u001b[39mfin()\n",
      "File \u001b[1;32mC:\\ProgramData\\anaconda3\\Lib\\site-packages\\pymongo\\collection.py:3479\u001b[0m, in \u001b[0;36mCollection.__call__\u001b[1;34m(self, *args, **kwargs)\u001b[0m\n\u001b[0;32m   3472\u001b[0m \u001b[38;5;28;01mif\u001b[39;00m \u001b[38;5;124m\"\u001b[39m\u001b[38;5;124m.\u001b[39m\u001b[38;5;124m\"\u001b[39m \u001b[38;5;129;01mnot\u001b[39;00m \u001b[38;5;129;01min\u001b[39;00m \u001b[38;5;28mself\u001b[39m\u001b[38;5;241m.\u001b[39m__name:\n\u001b[0;32m   3473\u001b[0m     \u001b[38;5;28;01mraise\u001b[39;00m \u001b[38;5;167;01mTypeError\u001b[39;00m(\n\u001b[0;32m   3474\u001b[0m         \u001b[38;5;124m\"\u001b[39m\u001b[38;5;124m'\u001b[39m\u001b[38;5;124mCollection\u001b[39m\u001b[38;5;124m'\u001b[39m\u001b[38;5;124m object is not callable. If you \u001b[39m\u001b[38;5;124m\"\u001b[39m\n\u001b[0;32m   3475\u001b[0m         \u001b[38;5;124m\"\u001b[39m\u001b[38;5;124mmeant to call the \u001b[39m\u001b[38;5;124m'\u001b[39m\u001b[38;5;132;01m%s\u001b[39;00m\u001b[38;5;124m'\u001b[39m\u001b[38;5;124m method on a \u001b[39m\u001b[38;5;124m'\u001b[39m\u001b[38;5;124mDatabase\u001b[39m\u001b[38;5;124m'\u001b[39m\u001b[38;5;124m \u001b[39m\u001b[38;5;124m\"\u001b[39m\n\u001b[0;32m   3476\u001b[0m         \u001b[38;5;124m\"\u001b[39m\u001b[38;5;124mobject it is failing because no such method \u001b[39m\u001b[38;5;124m\"\u001b[39m\n\u001b[0;32m   3477\u001b[0m         \u001b[38;5;124m\"\u001b[39m\u001b[38;5;124mexists.\u001b[39m\u001b[38;5;124m\"\u001b[39m \u001b[38;5;241m%\u001b[39m \u001b[38;5;28mself\u001b[39m\u001b[38;5;241m.\u001b[39m__name\n\u001b[0;32m   3478\u001b[0m     )\n\u001b[1;32m-> 3479\u001b[0m \u001b[38;5;28;01mraise\u001b[39;00m \u001b[38;5;167;01mTypeError\u001b[39;00m(\n\u001b[0;32m   3480\u001b[0m     \u001b[38;5;124m\"\u001b[39m\u001b[38;5;124m'\u001b[39m\u001b[38;5;124mCollection\u001b[39m\u001b[38;5;124m'\u001b[39m\u001b[38;5;124m object is not callable. If you meant to \u001b[39m\u001b[38;5;124m\"\u001b[39m\n\u001b[0;32m   3481\u001b[0m     \u001b[38;5;124m\"\u001b[39m\u001b[38;5;124mcall the \u001b[39m\u001b[38;5;124m'\u001b[39m\u001b[38;5;132;01m%s\u001b[39;00m\u001b[38;5;124m'\u001b[39m\u001b[38;5;124m method on a \u001b[39m\u001b[38;5;124m'\u001b[39m\u001b[38;5;124mCollection\u001b[39m\u001b[38;5;124m'\u001b[39m\u001b[38;5;124m object it is \u001b[39m\u001b[38;5;124m\"\u001b[39m\n\u001b[0;32m   3482\u001b[0m     \u001b[38;5;124m\"\u001b[39m\u001b[38;5;124mfailing because no such method exists.\u001b[39m\u001b[38;5;124m\"\u001b[39m \u001b[38;5;241m%\u001b[39m \u001b[38;5;28mself\u001b[39m\u001b[38;5;241m.\u001b[39m__name\u001b[38;5;241m.\u001b[39msplit(\u001b[38;5;124m\"\u001b[39m\u001b[38;5;124m.\u001b[39m\u001b[38;5;124m\"\u001b[39m)[\u001b[38;5;241m-\u001b[39m\u001b[38;5;241m1\u001b[39m]\n\u001b[0;32m   3483\u001b[0m )\n",
      "\u001b[1;31mTypeError\u001b[0m: 'Collection' object is not callable. If you meant to call the 'fin' method on a 'Collection' object it is failing because no such method exists."
     ]
    }
   ],
   "source": []
  },
  {
   "cell_type": "markdown",
   "id": "93a8bb56-c937-4404-a264-703cc23c1a9b",
   "metadata": {},
   "source": [
    "### Database joing and lookup"
   ]
  },
  {
   "cell_type": "code",
   "execution_count": 13,
   "id": "2f8d0189-aa4a-46ca-b26a-ab5c28aa4fb5",
   "metadata": {},
   "outputs": [
    {
     "data": {
      "text/plain": [
       "[{'_id': ObjectId('66c587d98c05ffbd7ed8200b'),\n",
       "  'orderId': 216,\n",
       "  'custid': 310,\n",
       "  'prodId': 101,\n",
       "  'numPurchased': 10},\n",
       " {'_id': ObjectId('66c587d98c05ffbd7ed8200c'),\n",
       "  'orderId': 217,\n",
       "  'custid': 311,\n",
       "  'prodId': 102,\n",
       "  'numPurchased': 5},\n",
       " {'_id': ObjectId('66c587d98c05ffbd7ed8200d'),\n",
       "  'orderId': 218,\n",
       "  'custid': 312,\n",
       "  'prodId': 103,\n",
       "  'numPurchased': 7},\n",
       " {'_id': ObjectId('66c587d98c05ffbd7ed8200e'),\n",
       "  'orderId': 219,\n",
       "  'custid': 314,\n",
       "  'prodId': 103,\n",
       "  'numPurchased': 3},\n",
       " {'_id': ObjectId('66c587d98c05ffbd7ed8200f'),\n",
       "  'orderId': 220,\n",
       "  'custid': 314,\n",
       "  'prodId': 105,\n",
       "  'numPurchased': 8},\n",
       " {'_id': ObjectId('66c587d98c05ffbd7ed82010'),\n",
       "  'orderId': 221,\n",
       "  'custid': 315,\n",
       "  'prodId': 106,\n",
       "  'numPurchased': 12},\n",
       " {'_id': ObjectId('66c587d98c05ffbd7ed82011'),\n",
       "  'orderId': 222,\n",
       "  'custid': 316,\n",
       "  'prodId': 107,\n",
       "  'numPurchased': 4},\n",
       " {'_id': ObjectId('66c587d98c05ffbd7ed82012'),\n",
       "  'orderId': 223,\n",
       "  'custid': 317,\n",
       "  'prodId': 108,\n",
       "  'numPurchased': 2},\n",
       " {'_id': ObjectId('66c587d98c05ffbd7ed82013'),\n",
       "  'orderId': 224,\n",
       "  'custid': 318,\n",
       "  'prodId': 109,\n",
       "  'numPurchased': 5},\n",
       " {'_id': ObjectId('66c587d98c05ffbd7ed82014'),\n",
       "  'orderId': 225,\n",
       "  'custid': 319,\n",
       "  'prodId': 107,\n",
       "  'numPurchased': 11},\n",
       " {'_id': ObjectId('66c587d98c05ffbd7ed82015'),\n",
       "  'orderId': 226,\n",
       "  'custid': 320,\n",
       "  'prodId': 111,\n",
       "  'numPurchased': 3},\n",
       " {'_id': ObjectId('66c587d98c05ffbd7ed82016'),\n",
       "  'orderId': 227,\n",
       "  'custid': 321,\n",
       "  'prodId': 112,\n",
       "  'numPurchased': 8},\n",
       " {'_id': ObjectId('66c587d98c05ffbd7ed82017'),\n",
       "  'orderId': 228,\n",
       "  'custid': 322,\n",
       "  'prodId': 113,\n",
       "  'numPurchased': 1},\n",
       " {'_id': ObjectId('66c587d98c05ffbd7ed82018'),\n",
       "  'orderId': 229,\n",
       "  'custid': 323,\n",
       "  'prodId': 114,\n",
       "  'numPurchased': 4},\n",
       " {'_id': ObjectId('66c587d98c05ffbd7ed82019'),\n",
       "  'orderId': 230,\n",
       "  'custid': 324,\n",
       "  'prodId': 115,\n",
       "  'numPurchased': 2},\n",
       " {'_id': ObjectId('66c587d98c05ffbd7ed8201a'),\n",
       "  'orderId': 231,\n",
       "  'custid': 325,\n",
       "  'prodId': 116,\n",
       "  'numPurchased': 9},\n",
       " {'_id': ObjectId('66c587d98c05ffbd7ed8201b'),\n",
       "  'orderId': 232,\n",
       "  'custid': 326,\n",
       "  'prodId': 117,\n",
       "  'numPurchased': 5},\n",
       " {'_id': ObjectId('66c587d98c05ffbd7ed8201c'),\n",
       "  'orderId': 233,\n",
       "  'custid': 327,\n",
       "  'prodId': 118,\n",
       "  'numPurchased': 6},\n",
       " {'_id': ObjectId('66c587d98c05ffbd7ed8201d'),\n",
       "  'orderId': 234,\n",
       "  'custid': 328,\n",
       "  'prodId': 119,\n",
       "  'numPurchased': 3},\n",
       " {'_id': ObjectId('66c587d98c05ffbd7ed8201e'),\n",
       "  'orderId': 235,\n",
       "  'custid': 329,\n",
       "  'prodId': 120,\n",
       "  'numPurchased': 4},\n",
       " {'_id': ObjectId('66c587d98c05ffbd7ed8201f'),\n",
       "  'orderId': 236,\n",
       "  'custid': 330,\n",
       "  'prodId': 121,\n",
       "  'numPurchased': 1},\n",
       " {'_id': ObjectId('66c587d98c05ffbd7ed82020'),\n",
       "  'orderId': 237,\n",
       "  'custid': 331,\n",
       "  'prodId': 122,\n",
       "  'numPurchased': 5}]"
      ]
     },
     "execution_count": 13,
     "metadata": {},
     "output_type": "execute_result"
    }
   ],
   "source": [
    "database = client['test_db']\n",
    "orders = database['orders']\n",
    "inventory = database['inventory']\n",
    "list(orders.find())"
   ]
  },
  {
   "cell_type": "code",
   "execution_count": 14,
   "id": "c74bb629-fd24-4a8e-99ae-2eb61c7bf819",
   "metadata": {},
   "outputs": [
    {
     "data": {
      "text/plain": [
       "[{'_id': ObjectId('66c587d98c05ffbd7ed8200b'),\n",
       "  'orderId': 216,\n",
       "  'custid': 310,\n",
       "  'prodId': 101,\n",
       "  'numPurchased': 10,\n",
       "  'productDetails': {'_id': ObjectId('66c587d98c05ffbd7ed81ffc'),\n",
       "   'prodId': 101,\n",
       "   'price': 12,\n",
       "   'quantity': 200}},\n",
       " {'_id': ObjectId('66c587d98c05ffbd7ed8200c'),\n",
       "  'orderId': 217,\n",
       "  'custid': 311,\n",
       "  'prodId': 102,\n",
       "  'numPurchased': 5,\n",
       "  'productDetails': {'_id': ObjectId('66c587d98c05ffbd7ed81ffd'),\n",
       "   'prodId': 102,\n",
       "   'price': 18,\n",
       "   'quantity': 300}},\n",
       " {'_id': ObjectId('66c587d98c05ffbd7ed8200d'),\n",
       "  'orderId': 218,\n",
       "  'custid': 312,\n",
       "  'prodId': 103,\n",
       "  'numPurchased': 7,\n",
       "  'productDetails': {'_id': ObjectId('66c587d98c05ffbd7ed81ffe'),\n",
       "   'prodId': 103,\n",
       "   'price': 22,\n",
       "   'quantity': 150}},\n",
       " {'_id': ObjectId('66c587d98c05ffbd7ed8200e'),\n",
       "  'orderId': 219,\n",
       "  'custid': 314,\n",
       "  'prodId': 103,\n",
       "  'numPurchased': 3,\n",
       "  'productDetails': {'_id': ObjectId('66c587d98c05ffbd7ed81ffe'),\n",
       "   'prodId': 103,\n",
       "   'price': 22,\n",
       "   'quantity': 150}},\n",
       " {'_id': ObjectId('66c587d98c05ffbd7ed8200f'),\n",
       "  'orderId': 220,\n",
       "  'custid': 314,\n",
       "  'prodId': 105,\n",
       "  'numPurchased': 8,\n",
       "  'productDetails': {'_id': ObjectId('66c587d98c05ffbd7ed82000'),\n",
       "   'prodId': 105,\n",
       "   'price': 30,\n",
       "   'quantity': 80}},\n",
       " {'_id': ObjectId('66c587d98c05ffbd7ed82012'),\n",
       "  'orderId': 223,\n",
       "  'custid': 317,\n",
       "  'prodId': 108,\n",
       "  'numPurchased': 2,\n",
       "  'productDetails': {'_id': ObjectId('66c587d98c05ffbd7ed82001'),\n",
       "   'prodId': 108,\n",
       "   'price': 40,\n",
       "   'quantity': 70}},\n",
       " {'_id': ObjectId('66c587d98c05ffbd7ed82013'),\n",
       "  'orderId': 224,\n",
       "  'custid': 318,\n",
       "  'prodId': 109,\n",
       "  'numPurchased': 5,\n",
       "  'productDetails': {'_id': ObjectId('66c587d98c05ffbd7ed82002'),\n",
       "   'prodId': 109,\n",
       "   'price': 45,\n",
       "   'quantity': 60}},\n",
       " {'_id': ObjectId('66c587d98c05ffbd7ed82016'),\n",
       "  'orderId': 227,\n",
       "  'custid': 321,\n",
       "  'prodId': 112,\n",
       "  'numPurchased': 8,\n",
       "  'productDetails': {'_id': ObjectId('66c587d98c05ffbd7ed82004'),\n",
       "   'prodId': 112,\n",
       "   'price': 60,\n",
       "   'quantity': 30}},\n",
       " {'_id': ObjectId('66c587d98c05ffbd7ed82017'),\n",
       "  'orderId': 228,\n",
       "  'custid': 322,\n",
       "  'prodId': 113,\n",
       "  'numPurchased': 1,\n",
       "  'productDetails': {'_id': ObjectId('66c587d98c05ffbd7ed82005'),\n",
       "   'prodId': 113,\n",
       "   'price': 65,\n",
       "   'quantity': 20}},\n",
       " {'_id': ObjectId('66c587d98c05ffbd7ed82018'),\n",
       "  'orderId': 229,\n",
       "  'custid': 323,\n",
       "  'prodId': 114,\n",
       "  'numPurchased': 4,\n",
       "  'productDetails': {'_id': ObjectId('66c587d98c05ffbd7ed82006'),\n",
       "   'prodId': 114,\n",
       "   'price': 70,\n",
       "   'quantity': 10}},\n",
       " {'_id': ObjectId('66c587d98c05ffbd7ed82019'),\n",
       "  'orderId': 230,\n",
       "  'custid': 324,\n",
       "  'prodId': 115,\n",
       "  'numPurchased': 2,\n",
       "  'productDetails': {'_id': ObjectId('66c587d98c05ffbd7ed82007'),\n",
       "   'prodId': 115,\n",
       "   'price': 75,\n",
       "   'quantity': 5}},\n",
       " {'_id': ObjectId('66c587d98c05ffbd7ed8201b'),\n",
       "  'orderId': 232,\n",
       "  'custid': 326,\n",
       "  'prodId': 117,\n",
       "  'numPurchased': 5,\n",
       "  'productDetails': {'_id': ObjectId('66c587d98c05ffbd7ed82008'),\n",
       "   'prodId': 117,\n",
       "   'price': 85,\n",
       "   'quantity': 15}},\n",
       " {'_id': ObjectId('66c587d98c05ffbd7ed8201c'),\n",
       "  'orderId': 233,\n",
       "  'custid': 327,\n",
       "  'prodId': 118,\n",
       "  'numPurchased': 6,\n",
       "  'productDetails': {'_id': ObjectId('66c587d98c05ffbd7ed82009'),\n",
       "   'prodId': 118,\n",
       "   'price': 90,\n",
       "   'quantity': 8}},\n",
       " {'_id': ObjectId('66c587d98c05ffbd7ed8201d'),\n",
       "  'orderId': 234,\n",
       "  'custid': 328,\n",
       "  'prodId': 119,\n",
       "  'numPurchased': 3,\n",
       "  'productDetails': {'_id': ObjectId('66c587d98c05ffbd7ed8200a'),\n",
       "   'prodId': 119,\n",
       "   'price': 95,\n",
       "   'quantity': 12}}]"
      ]
     },
     "execution_count": 14,
     "metadata": {},
     "output_type": "execute_result"
    }
   ],
   "source": [
    "list(orders.aggregate([\n",
    "  {\"$lookup\": {\n",
    "\t\"from\": \"inventory\",\n",
    "\t\"localField\": 'prodId',\n",
    "\t\"foreignField\": 'prodId',\n",
    "\t\"as\": 'productDetails'\n",
    "    }},\n",
    "    {\n",
    "        \"$unwind\": \"$productDetails\"\n",
    "    }\n",
    "]))"
   ]
  },
  {
   "cell_type": "markdown",
   "id": "3faefb44-d728-4659-90e5-493d56c469a9",
   "metadata": {},
   "source": [
    "### Left Join "
   ]
  },
  {
   "cell_type": "code",
   "execution_count": 21,
   "id": "502f58ae-ab27-4ead-b03c-875b182fccfa",
   "metadata": {},
   "outputs": [
    {
     "data": {
      "text/plain": [
       "[{'orderId': 216, 'custid': 310, 'prodId': 101, 'price': 12, 'quantity': 200},\n",
       " {'orderId': 217, 'custid': 311, 'prodId': 102, 'price': 18, 'quantity': 300},\n",
       " {'orderId': 218, 'custid': 312, 'prodId': 103, 'price': 22, 'quantity': 150},\n",
       " {'orderId': 219, 'custid': 314, 'prodId': 103, 'price': 22, 'quantity': 150},\n",
       " {'orderId': 220, 'custid': 314, 'prodId': 105, 'price': 30, 'quantity': 80},\n",
       " {'orderId': 223, 'custid': 317, 'prodId': 108, 'price': 40, 'quantity': 70},\n",
       " {'orderId': 224, 'custid': 318, 'prodId': 109, 'price': 45, 'quantity': 60},\n",
       " {'orderId': 227, 'custid': 321, 'prodId': 112, 'price': 60, 'quantity': 30},\n",
       " {'orderId': 228, 'custid': 322, 'prodId': 113, 'price': 65, 'quantity': 20},\n",
       " {'orderId': 229, 'custid': 323, 'prodId': 114, 'price': 70, 'quantity': 10},\n",
       " {'orderId': 230, 'custid': 324, 'prodId': 115, 'price': 75, 'quantity': 5},\n",
       " {'orderId': 232, 'custid': 326, 'prodId': 117, 'price': 85, 'quantity': 15},\n",
       " {'orderId': 233, 'custid': 327, 'prodId': 118, 'price': 90, 'quantity': 8},\n",
       " {'orderId': 234, 'custid': 328, 'prodId': 119, 'price': 95, 'quantity': 12},\n",
       " {'orderId': 234, 'custid': 328, 'prodId': 119, 'price': 65, 'quantity': 1}]"
      ]
     },
     "execution_count": 21,
     "metadata": {},
     "output_type": "execute_result"
    }
   ],
   "source": [
    "list(orders.aggregate([\n",
    "  {\"$lookup\": {\n",
    "\t\"from\": \"inventory\",\n",
    "\t\"localField\": 'prodId',\n",
    "\t\"foreignField\": 'prodId',\n",
    "\t\"as\": 'productDetails'\n",
    "    }},\n",
    "    {\n",
    "        \"$unwind\": \"$productDetails\"\n",
    "    },\n",
    "    {\n",
    "        \"$project\": {\n",
    "            \"_id\": 0,\n",
    "            \"orderId\": 1,\n",
    "            \"custid\": 1,\n",
    "            \"prodId\": 1,\n",
    "            \"price\": {\"$ifNull\": [\"$productDetails.price\", \"null\"]},\n",
    "            'quantity': {\"$ifNull\": [\"$productDetails.quantity\", \"null\"]}\n",
    "        }\n",
    "    }\n",
    "]))"
   ]
  },
  {
   "cell_type": "markdown",
   "id": "6080ee5f-8b1d-4a5d-971c-d4951257a277",
   "metadata": {},
   "source": [
    "### Unione (Full Outer Join)"
   ]
  },
  {
   "cell_type": "code",
   "execution_count": null,
   "id": "412f62ee-9eab-4b70-b4dc-a64226654161",
   "metadata": {},
   "outputs": [],
   "source": [
    "list(orders.aggregate([\n",
    "  {\"$lookup\": {\n",
    "\t\"from\": \"inventory\",\n",
    "\t\"localField\": 'prodId',\n",
    "\t\"foreignField\": 'prodId',\n",
    "\t\"as\": 'productDetails'\n",
    "    }},\n",
    "    {\n",
    "        \"$unwind\": \"$productDetails\"\n",
    "    },\n",
    "    {\n",
    "        \"$project\": {\n",
    "            \"_id\": 0,\n",
    "            \"orderId\": 1,\n",
    "            \"custid\": 1,\n",
    "            \"prodId\": 1,\n",
    "            \"price\": {\"$ifNull\": [\"$productDetails.price\", \"null\"]},\n",
    "            'quantity': {\"$ifNull\": [\"$productDetails.quantity\", \"null\"]}\n",
    "        }\n",
    "    }\n",
    "]))"
   ]
  }
 ],
 "metadata": {
  "kernelspec": {
   "display_name": "Python 3 (ipykernel)",
   "language": "python",
   "name": "python3"
  },
  "language_info": {
   "codemirror_mode": {
    "name": "ipython",
    "version": 3
   },
   "file_extension": ".py",
   "mimetype": "text/x-python",
   "name": "python",
   "nbconvert_exporter": "python",
   "pygments_lexer": "ipython3",
   "version": "3.12.4"
  }
 },
 "nbformat": 4,
 "nbformat_minor": 5
}
