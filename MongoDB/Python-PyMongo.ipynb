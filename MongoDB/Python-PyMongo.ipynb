{
 "cells": [
  {
   "cell_type": "code",
   "execution_count": 1,
   "id": "37e90b6d-761e-4755-9ebb-47e8f64755d3",
   "metadata": {},
   "outputs": [
    {
     "name": "stdout",
     "output_type": "stream",
     "text": [
      "Collecting pymongo\n",
      "  Downloading pymongo-4.8.0-cp312-cp312-win_amd64.whl.metadata (22 kB)\n",
      "Collecting dnspython<3.0.0,>=1.16.0 (from pymongo)\n",
      "  Downloading dnspython-2.6.1-py3-none-any.whl.metadata (5.8 kB)\n",
      "Downloading pymongo-4.8.0-cp312-cp312-win_amd64.whl (680 kB)\n",
      "   ---------------------------------------- 0.0/680.4 kB ? eta -:--:--\n",
      "   - -------------------------------------- 30.7/680.4 kB 1.3 MB/s eta 0:00:01\n",
      "   -------------------------- ------------- 450.6/680.4 kB 5.6 MB/s eta 0:00:01\n",
      "   ---------------------------------------  675.8/680.4 kB 7.1 MB/s eta 0:00:01\n",
      "   ---------------------------------------- 680.4/680.4 kB 5.4 MB/s eta 0:00:00\n",
      "Downloading dnspython-2.6.1-py3-none-any.whl (307 kB)\n",
      "   ---------------------------------------- 0.0/307.7 kB ? eta -:--:--\n",
      "   --------------------------------------  307.2/307.7 kB 18.6 MB/s eta 0:00:01\n",
      "   ---------------------------------------- 307.7/307.7 kB 6.3 MB/s eta 0:00:00\n",
      "Installing collected packages: dnspython, pymongo\n",
      "Successfully installed dnspython-2.6.1 pymongo-4.8.0\n"
     ]
    }
   ],
   "source": [
    "!pip install pymongo"
   ]
  },
  {
   "cell_type": "code",
   "execution_count": 2,
   "id": "b28567ff-5908-4433-bbf7-b82b87731efa",
   "metadata": {},
   "outputs": [],
   "source": [
    "import pymongo"
   ]
  },
  {
   "cell_type": "markdown",
   "id": "36be6cdf-e162-467f-9327-bc6667ea737c",
   "metadata": {},
   "source": [
    "### Step 1. Connect to MongoDB Database"
   ]
  },
  {
   "cell_type": "code",
   "execution_count": 6,
   "id": "9ccc4873-f8fc-44c2-a6ce-f0e3e1155ba3",
   "metadata": {},
   "outputs": [
    {
     "name": "stdout",
     "output_type": "stream",
     "text": [
      "MongoClient(host=['localhost:27017'], document_class=dict, tz_aware=False, connect=True)\n"
     ]
    }
   ],
   "source": [
    "client = pymongo.MongoClient(\"mongodb://localhost:27017/\")\n",
    "print(client)"
   ]
  },
  {
   "cell_type": "code",
   "execution_count": 8,
   "id": "9a65d6ea-bfd6-4311-adf2-1227be843381",
   "metadata": {},
   "outputs": [],
   "source": [
    "database = client['pymongo_db']\n",
    "collection = database['testcollection']"
   ]
  },
  {
   "cell_type": "code",
   "execution_count": 9,
   "id": "db373a4c-ef47-4ff2-854b-0358209124cc",
   "metadata": {},
   "outputs": [],
   "source": [
    "doc_1 = {\n",
    "    \"name\": \"Smartphone X20\",\n",
    "    \"price\": 749.99,\n",
    "    \"category\": \"Smartphones\",\n",
    "    \"brand\": \"TechWorld\",\n",
    "    \"colors\": [\n",
    "        \"Midnight Black\",\n",
    "        \"Starlight Silver\",\n",
    "        \"Sunset Gold\"\n",
    "    ],\n",
    "    \"storage_options\": [\n",
    "        \"128GB\",\n",
    "        \"256GB\",\n",
    "        \"512GB\"\n",
    "    ]\n",
    "}"
   ]
  },
  {
   "cell_type": "markdown",
   "id": "bb5d0d2e-0c52-4ac3-a7c1-eff8edca24fa",
   "metadata": {},
   "source": [
    "### Insert single document"
   ]
  },
  {
   "cell_type": "code",
   "execution_count": 10,
   "id": "ec98f1f5-c728-42bc-9d02-8395a8c4900d",
   "metadata": {},
   "outputs": [
    {
     "data": {
      "text/plain": [
       "InsertOneResult(ObjectId('66c43c4e19168f732e7552b2'), acknowledged=True)"
      ]
     },
     "execution_count": 10,
     "metadata": {},
     "output_type": "execute_result"
    }
   ],
   "source": [
    "collection.insert_one(doc_1)"
   ]
  },
  {
   "cell_type": "code",
   "execution_count": 11,
   "id": "4878aa68-1414-4b8b-96e5-2c650c227103",
   "metadata": {},
   "outputs": [],
   "source": [
    "products = [\n",
    "    {\n",
    "        \"name\": \"Ultra HD Smart TV\",\n",
    "        \"price\": 999.99,\n",
    "        \"colors\": [\n",
    "            \"Black\",\n",
    "            \"Silver\"\n",
    "        ],\n",
    "        \"storage_options\": [\n",
    "            \"32GB\",\n",
    "            \"64GB\"\n",
    "        ],\n",
    "        \"category\": \"Televisions\",\n",
    "        \"brand\": \"VisionTech\"\n",
    "    },\n",
    "    {\n",
    "        \"name\": \"Gaming Laptop R5\",\n",
    "        \"price\": 1299.99,\n",
    "        \"colors\": [\n",
    "            \"Cosmic Black\",\n",
    "            \"Nebula Blue\"\n",
    "        ],\n",
    "        \"storage_options\": [\n",
    "            \"512GB SSD\",\n",
    "            \"1TB SSD\"\n",
    "        ],\n",
    "        \"category\": \"Laptops\",\n",
    "        \"brand\": \"GameMaster\"\n",
    "    },\n",
    "    {\n",
    "        \"name\": \"Bluetooth Earbuds Z3\",\n",
    "        \"price\": 89.99,\n",
    "        \"colors\": [\n",
    "            \"White\",\n",
    "            \"Black\",\n",
    "            \"Blue\"\n",
    "        ],\n",
    "        \"storage_options\": [\n",
    "            \"N/A\"\n",
    "        ],\n",
    "        \"category\": \"Audio\",\n",
    "        \"brand\": \"SoundWave\"\n",
    "    },\n",
    "    {\n",
    "        \"name\": \"4K Action Camera\",\n",
    "        \"price\": 349.99,\n",
    "        \"colors\": [\n",
    "            \"Black\",\n",
    "            \"Yellow\"\n",
    "        ],\n",
    "        \"storage_options\": [\n",
    "            \"64GB\",\n",
    "            \"128GB\"\n",
    "        ],\n",
    "        \"category\": \"Cameras\",\n",
    "        \"brand\": \"CapturePro\"\n",
    "    },\n",
    "    {\n",
    "        \"name\": \"Electric Scooter X1\",\n",
    "        \"price\": 499.99,\n",
    "        \"colors\": [\n",
    "            \"Red\",\n",
    "            \"Black\"\n",
    "        ],\n",
    "        \"storage_options\": [\n",
    "            \"N/A\"\n",
    "        ],\n",
    "        \"category\": \"Transportation\",\n",
    "        \"brand\": \"EcoRide\"\n",
    "    }\n",
    "]"
   ]
  },
  {
   "cell_type": "markdown",
   "id": "714deacb-bcc2-4275-969b-d9499b923f22",
   "metadata": {},
   "source": [
    "### Insert multiple documents"
   ]
  },
  {
   "cell_type": "code",
   "execution_count": 13,
   "id": "7cc870ac-8606-4be8-8171-72fa291af31a",
   "metadata": {},
   "outputs": [
    {
     "data": {
      "text/plain": [
       "InsertManyResult([ObjectId('66c43d3d19168f732e7552b3'), ObjectId('66c43d3d19168f732e7552b4'), ObjectId('66c43d3d19168f732e7552b5'), ObjectId('66c43d3d19168f732e7552b6'), ObjectId('66c43d3d19168f732e7552b7')], acknowledged=True)"
      ]
     },
     "execution_count": 13,
     "metadata": {},
     "output_type": "execute_result"
    }
   ],
   "source": [
    "collection.insert_many(products)"
   ]
  },
  {
   "cell_type": "markdown",
   "id": "0d0c520f-d8ac-42e4-b7f1-fc409882e970",
   "metadata": {},
   "source": [
    "### Find One Document"
   ]
  },
  {
   "cell_type": "code",
   "execution_count": 14,
   "id": "a71af17c-acb0-4dc7-b548-9fd838baf920",
   "metadata": {},
   "outputs": [
    {
     "data": {
      "text/plain": [
       "{'_id': ObjectId('66c43c4e19168f732e7552b2'),\n",
       " 'name': 'Smartphone X20',\n",
       " 'price': 749.99,\n",
       " 'category': 'Smartphones',\n",
       " 'brand': 'TechWorld',\n",
       " 'colors': ['Midnight Black', 'Starlight Silver', 'Sunset Gold'],\n",
       " 'storage_options': ['128GB', '256GB', '512GB']}"
      ]
     },
     "execution_count": 14,
     "metadata": {},
     "output_type": "execute_result"
    }
   ],
   "source": [
    "collection.find_one()"
   ]
  },
  {
   "cell_type": "markdown",
   "id": "dc02b687-53aa-45b3-bcd7-2315a8a2893a",
   "metadata": {},
   "source": [
    "### Find Documents based on the filter criteria mentioned"
   ]
  },
  {
   "cell_type": "code",
   "execution_count": 18,
   "id": "5fb875b3-9302-4eed-9989-7d9e6c1b9b2e",
   "metadata": {},
   "outputs": [
    {
     "data": {
      "text/plain": [
       "{'_id': ObjectId('66c43c4e19168f732e7552b2'),\n",
       " 'name': 'Smartphone X20',\n",
       " 'price': 749.99,\n",
       " 'category': 'Smartphones',\n",
       " 'brand': 'TechWorld',\n",
       " 'colors': ['Midnight Black', 'Starlight Silver', 'Sunset Gold'],\n",
       " 'storage_options': ['128GB', '256GB', '512GB']}"
      ]
     },
     "execution_count": 18,
     "metadata": {},
     "output_type": "execute_result"
    }
   ],
   "source": [
    "collection.find_one({'category':'Smartphones'})"
   ]
  },
  {
   "cell_type": "markdown",
   "id": "3161097f-cac2-4c34-9c87-81c8552a11ad",
   "metadata": {},
   "source": [
    "### Display all documents"
   ]
  },
  {
   "cell_type": "code",
   "execution_count": 22,
   "id": "90f01f6c-4ac2-4c8f-9211-f3822c59c3d3",
   "metadata": {},
   "outputs": [],
   "source": [
    "alldocs = collection.find()"
   ]
  },
  {
   "cell_type": "code",
   "execution_count": 24,
   "id": "45c5966c-cbf1-456b-85ae-bb14076e00bc",
   "metadata": {},
   "outputs": [
    {
     "name": "stdout",
     "output_type": "stream",
     "text": [
      "{'_id': ObjectId('66c43c4e19168f732e7552b2'), 'name': 'Smartphone X20', 'price': 749.99, 'category': 'Smartphones', 'brand': 'TechWorld', 'colors': ['Midnight Black', 'Starlight Silver', 'Sunset Gold'], 'storage_options': ['128GB', '256GB', '512GB']}\n",
      "{'_id': ObjectId('66c43d3d19168f732e7552b3'), 'name': 'Ultra HD Smart TV', 'price': 999.99, 'colors': ['Black', 'Silver'], 'storage_options': ['32GB', '64GB'], 'category': 'Televisions', 'brand': 'VisionTech'}\n",
      "{'_id': ObjectId('66c43d3d19168f732e7552b4'), 'name': 'Gaming Laptop R5', 'price': 1299.99, 'colors': ['Cosmic Black', 'Nebula Blue'], 'storage_options': ['512GB SSD', '1TB SSD'], 'category': 'Laptops', 'brand': 'GameMaster'}\n",
      "{'_id': ObjectId('66c43d3d19168f732e7552b5'), 'name': 'Bluetooth Earbuds Z3', 'price': 89.99, 'colors': ['White', 'Black', 'Blue'], 'storage_options': ['N/A'], 'category': 'Audio', 'brand': 'SoundWave'}\n",
      "{'_id': ObjectId('66c43d3d19168f732e7552b6'), 'name': '4K Action Camera', 'price': 349.99, 'colors': ['Black', 'Yellow'], 'storage_options': ['64GB', '128GB'], 'category': 'Cameras', 'brand': 'CapturePro'}\n",
      "{'_id': ObjectId('66c43d3d19168f732e7552b7'), 'name': 'Electric Scooter X1', 'price': 499.99, 'colors': ['Red', 'Black'], 'storage_options': ['N/A'], 'category': 'Transportation', 'brand': 'EcoRide'}\n"
     ]
    }
   ],
   "source": [
    "for doc in alldocs:\n",
    "    print(doc)"
   ]
  },
  {
   "cell_type": "markdown",
   "id": "df80fe76-4166-41e4-a1c4-3a3390f8c2a2",
   "metadata": {},
   "source": [
    "### Drop Collection from database"
   ]
  },
  {
   "cell_type": "code",
   "execution_count": 36,
   "id": "34f0b51c-3bc5-4383-bd13-a67f91a30255",
   "metadata": {},
   "outputs": [
    {
     "data": {
      "text/plain": [
       "InsertManyResult([ObjectId('66c43d3d19168f732e7552b3'), ObjectId('66c43d3d19168f732e7552b4'), ObjectId('66c43d3d19168f732e7552b5'), ObjectId('66c43d3d19168f732e7552b6'), ObjectId('66c43d3d19168f732e7552b7')], acknowledged=True)"
      ]
     },
     "execution_count": 36,
     "metadata": {},
     "output_type": "execute_result"
    }
   ],
   "source": [
    "collection1 = database['test1']\n",
    "collection1.insert_many(products)"
   ]
  },
  {
   "cell_type": "code",
   "execution_count": 38,
   "id": "81515a26-f77e-4343-95d8-9aa39c294d79",
   "metadata": {},
   "outputs": [],
   "source": [
    "try:\n",
    "    database.test1.drop()\n",
    "except:\n",
    "    print(\"Collection doesnt exist!\")"
   ]
  },
  {
   "cell_type": "markdown",
   "id": "6ea2367b-2f1b-4b03-823b-a06cb2f5f50a",
   "metadata": {},
   "source": [
    "### List Databases and List Collections"
   ]
  },
  {
   "cell_type": "code",
   "execution_count": 39,
   "id": "9f255a5f-b3cc-4afe-aae1-fadaaf38db94",
   "metadata": {},
   "outputs": [
    {
     "data": {
      "text/plain": [
       "['admin', 'config', 'local', 'pymongo_db', 'restaurants', 'sales']"
      ]
     },
     "execution_count": 39,
     "metadata": {},
     "output_type": "execute_result"
    }
   ],
   "source": [
    "client.list_database_names()"
   ]
  },
  {
   "cell_type": "code",
   "execution_count": 40,
   "id": "80981b8c-85c2-46ce-abb1-a619353e8ffb",
   "metadata": {},
   "outputs": [
    {
     "data": {
      "text/plain": [
       "['testcollection']"
      ]
     },
     "execution_count": 40,
     "metadata": {},
     "output_type": "execute_result"
    }
   ],
   "source": [
    "database.list_collection_names()"
   ]
  },
  {
   "cell_type": "markdown",
   "id": "b5227af7-4f74-408f-9f30-7ff86537dc93",
   "metadata": {},
   "source": [
    "### distinct(): To retrieve distinct attributes"
   ]
  },
  {
   "cell_type": "code",
   "execution_count": 42,
   "id": "cc03f68e-c576-4b97-bc2d-c3a855a0109d",
   "metadata": {},
   "outputs": [
    {
     "data": {
      "text/plain": [
       "[89.99, 349.99, 499.99, 749.99, 999.99, 1299.99]"
      ]
     },
     "execution_count": 42,
     "metadata": {},
     "output_type": "execute_result"
    }
   ],
   "source": [
    "collection.distinct(\"price\")"
   ]
  },
  {
   "cell_type": "code",
   "execution_count": 43,
   "id": "75685e1a-2e8b-4e53-b734-0b09ebd743d1",
   "metadata": {},
   "outputs": [
    {
     "ename": "TypeError",
     "evalue": "'Collection' object is not callable. If you meant to call the 'fin' method on a 'Collection' object it is failing because no such method exists.",
     "output_type": "error",
     "traceback": [
      "\u001b[1;31m---------------------------------------------------------------------------\u001b[0m",
      "\u001b[1;31mTypeError\u001b[0m                                 Traceback (most recent call last)",
      "Cell \u001b[1;32mIn[43], line 1\u001b[0m\n\u001b[1;32m----> 1\u001b[0m collection\u001b[38;5;241m.\u001b[39mfin()\n",
      "File \u001b[1;32mC:\\ProgramData\\anaconda3\\Lib\\site-packages\\pymongo\\collection.py:3479\u001b[0m, in \u001b[0;36mCollection.__call__\u001b[1;34m(self, *args, **kwargs)\u001b[0m\n\u001b[0;32m   3472\u001b[0m \u001b[38;5;28;01mif\u001b[39;00m \u001b[38;5;124m\"\u001b[39m\u001b[38;5;124m.\u001b[39m\u001b[38;5;124m\"\u001b[39m \u001b[38;5;129;01mnot\u001b[39;00m \u001b[38;5;129;01min\u001b[39;00m \u001b[38;5;28mself\u001b[39m\u001b[38;5;241m.\u001b[39m__name:\n\u001b[0;32m   3473\u001b[0m     \u001b[38;5;28;01mraise\u001b[39;00m \u001b[38;5;167;01mTypeError\u001b[39;00m(\n\u001b[0;32m   3474\u001b[0m         \u001b[38;5;124m\"\u001b[39m\u001b[38;5;124m'\u001b[39m\u001b[38;5;124mCollection\u001b[39m\u001b[38;5;124m'\u001b[39m\u001b[38;5;124m object is not callable. If you \u001b[39m\u001b[38;5;124m\"\u001b[39m\n\u001b[0;32m   3475\u001b[0m         \u001b[38;5;124m\"\u001b[39m\u001b[38;5;124mmeant to call the \u001b[39m\u001b[38;5;124m'\u001b[39m\u001b[38;5;132;01m%s\u001b[39;00m\u001b[38;5;124m'\u001b[39m\u001b[38;5;124m method on a \u001b[39m\u001b[38;5;124m'\u001b[39m\u001b[38;5;124mDatabase\u001b[39m\u001b[38;5;124m'\u001b[39m\u001b[38;5;124m \u001b[39m\u001b[38;5;124m\"\u001b[39m\n\u001b[0;32m   3476\u001b[0m         \u001b[38;5;124m\"\u001b[39m\u001b[38;5;124mobject it is failing because no such method \u001b[39m\u001b[38;5;124m\"\u001b[39m\n\u001b[0;32m   3477\u001b[0m         \u001b[38;5;124m\"\u001b[39m\u001b[38;5;124mexists.\u001b[39m\u001b[38;5;124m\"\u001b[39m \u001b[38;5;241m%\u001b[39m \u001b[38;5;28mself\u001b[39m\u001b[38;5;241m.\u001b[39m__name\n\u001b[0;32m   3478\u001b[0m     )\n\u001b[1;32m-> 3479\u001b[0m \u001b[38;5;28;01mraise\u001b[39;00m \u001b[38;5;167;01mTypeError\u001b[39;00m(\n\u001b[0;32m   3480\u001b[0m     \u001b[38;5;124m\"\u001b[39m\u001b[38;5;124m'\u001b[39m\u001b[38;5;124mCollection\u001b[39m\u001b[38;5;124m'\u001b[39m\u001b[38;5;124m object is not callable. If you meant to \u001b[39m\u001b[38;5;124m\"\u001b[39m\n\u001b[0;32m   3481\u001b[0m     \u001b[38;5;124m\"\u001b[39m\u001b[38;5;124mcall the \u001b[39m\u001b[38;5;124m'\u001b[39m\u001b[38;5;132;01m%s\u001b[39;00m\u001b[38;5;124m'\u001b[39m\u001b[38;5;124m method on a \u001b[39m\u001b[38;5;124m'\u001b[39m\u001b[38;5;124mCollection\u001b[39m\u001b[38;5;124m'\u001b[39m\u001b[38;5;124m object it is \u001b[39m\u001b[38;5;124m\"\u001b[39m\n\u001b[0;32m   3482\u001b[0m     \u001b[38;5;124m\"\u001b[39m\u001b[38;5;124mfailing because no such method exists.\u001b[39m\u001b[38;5;124m\"\u001b[39m \u001b[38;5;241m%\u001b[39m \u001b[38;5;28mself\u001b[39m\u001b[38;5;241m.\u001b[39m__name\u001b[38;5;241m.\u001b[39msplit(\u001b[38;5;124m\"\u001b[39m\u001b[38;5;124m.\u001b[39m\u001b[38;5;124m\"\u001b[39m)[\u001b[38;5;241m-\u001b[39m\u001b[38;5;241m1\u001b[39m]\n\u001b[0;32m   3483\u001b[0m )\n",
      "\u001b[1;31mTypeError\u001b[0m: 'Collection' object is not callable. If you meant to call the 'fin' method on a 'Collection' object it is failing because no such method exists."
     ]
    }
   ],
   "source": []
  },
  {
   "cell_type": "code",
   "execution_count": null,
   "id": "c248dfde-a41a-4952-81a4-ead942f064cf",
   "metadata": {},
   "outputs": [],
   "source": []
  }
 ],
 "metadata": {
  "kernelspec": {
   "display_name": "Python 3 (ipykernel)",
   "language": "python",
   "name": "python3"
  },
  "language_info": {
   "codemirror_mode": {
    "name": "ipython",
    "version": 3
   },
   "file_extension": ".py",
   "mimetype": "text/x-python",
   "name": "python",
   "nbconvert_exporter": "python",
   "pygments_lexer": "ipython3",
   "version": "3.12.4"
  }
 },
 "nbformat": 4,
 "nbformat_minor": 5
}
